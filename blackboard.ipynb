{
 "cells": [
  {
   "cell_type": "code",
   "execution_count": 1,
   "metadata": {
    "ExecuteTime": {
     "end_time": "2021-01-04T16:20:10.326204Z",
     "start_time": "2021-01-04T16:20:08.729666Z"
    }
   },
   "outputs": [],
   "source": [
    "import os\n",
    "try:\n",
    "    from yaml import load, CLoader as Loader\n",
    "except:\n",
    "    from yaml import load, Loader\n",
    "\n",
    "data = load(open('env.yaml'), Loader=Loader)\n",
    "os.environ.update({key: str(val) for key, val in data.items()})\n",
    "os.environ['DATABASE_URL'] = 'sqlite:///:memory:'\n",
    "\n",
    "from hemlock import push_app_context\n",
    "\n",
    "app = push_app_context()"
   ]
  },
  {
   "cell_type": "code",
   "execution_count": 2,
   "metadata": {
    "ExecuteTime": {
     "end_time": "2020-08-12T12:50:51.510652Z",
     "start_time": "2020-08-12T12:50:51.158730Z"
    }
   },
   "outputs": [
    {
     "data": {
      "text/plain": [
       "<Page 2>"
      ]
     },
     "execution_count": 2,
     "metadata": {},
     "output_type": "execute_result"
    }
   ],
   "source": [
    "from hemlock import Page, Label\n",
    "\n",
    "Page(Label('<p>Hello, World!</p>')).preview()"
   ]
  },
  {
   "cell_type": "code",
   "execution_count": 3,
   "metadata": {
    "ExecuteTime": {
     "end_time": "2020-08-12T12:51:22.307983Z",
     "start_time": "2020-08-12T12:51:22.295642Z"
    }
   },
   "outputs": [
    {
     "data": {
      "text/plain": [
       "[None]"
      ]
     },
     "execution_count": 3,
     "metadata": {},
     "output_type": "execute_result"
    }
   ],
   "source": [
    "[os.remove(f) for f in app.tmpfiles if os.path.exists(f)]"
   ]
  },
  {
   "cell_type": "code",
   "execution_count": 1,
   "metadata": {
    "ExecuteTime": {
     "end_time": "2021-01-04T17:40:00.249838Z",
     "start_time": "2021-01-04T17:39:59.370417Z"
    }
   },
   "outputs": [
    {
     "data": {
      "text/html": [
       "<div>\n",
       "<style scoped>\n",
       "    .dataframe tbody tr th:only-of-type {\n",
       "        vertical-align: middle;\n",
       "    }\n",
       "\n",
       "    .dataframe tbody tr th {\n",
       "        vertical-align: top;\n",
       "    }\n",
       "\n",
       "    .dataframe thead th {\n",
       "        text-align: right;\n",
       "    }\n",
       "</style>\n",
       "<table border=\"1\" class=\"dataframe\">\n",
       "  <thead>\n",
       "    <tr style=\"text-align: right;\">\n",
       "      <th></th>\n",
       "      <th>Test</th>\n",
       "      <th>IPv4</th>\n",
       "      <th>Ideal</th>\n",
       "      <th>WorkerId</th>\n",
       "      <th>SurveyCode</th>\n",
       "      <th>ID</th>\n",
       "      <th>EndTime</th>\n",
       "      <th>StartTime</th>\n",
       "      <th>Status</th>\n",
       "      <th>DemographicsTime</th>\n",
       "      <th>...</th>\n",
       "      <th>RaceBlack</th>\n",
       "      <th>RaceSouth Asian</th>\n",
       "      <th>RaceEast Asian</th>\n",
       "      <th>RaceArabic or Central Asian</th>\n",
       "      <th>RaceOther</th>\n",
       "      <th>RaceSpecify</th>\n",
       "      <th>Male</th>\n",
       "      <th>Age</th>\n",
       "      <th>ArticleName</th>\n",
       "      <th>Enjoy</th>\n",
       "    </tr>\n",
       "  </thead>\n",
       "  <tbody>\n",
       "    <tr>\n",
       "      <th>0</th>\n",
       "      <td>1</td>\n",
       "      <td>127.0.0.1</td>\n",
       "      <td>0</td>\n",
       "      <td>test</td>\n",
       "      <td>s7X1T6</td>\n",
       "      <td>1</td>\n",
       "      <td>2021-01-04 17:30:49.562080</td>\n",
       "      <td>2021-01-04 17:30:38.818873</td>\n",
       "      <td>Completed</td>\n",
       "      <td>4.191885</td>\n",
       "      <td>...</td>\n",
       "      <td>0</td>\n",
       "      <td>1</td>\n",
       "      <td>0</td>\n",
       "      <td>0</td>\n",
       "      <td>0</td>\n",
       "      <td>NaN</td>\n",
       "      <td>1</td>\n",
       "      <td>51.260780</td>\n",
       "      <td>Iran-tanker</td>\n",
       "      <td>7.0</td>\n",
       "    </tr>\n",
       "    <tr>\n",
       "      <th>1</th>\n",
       "      <td>1</td>\n",
       "      <td>127.0.0.1</td>\n",
       "      <td>0</td>\n",
       "      <td>test</td>\n",
       "      <td>s7X1T6</td>\n",
       "      <td>1</td>\n",
       "      <td>2021-01-04 17:30:49.562080</td>\n",
       "      <td>2021-01-04 17:30:38.818873</td>\n",
       "      <td>Completed</td>\n",
       "      <td>4.191885</td>\n",
       "      <td>...</td>\n",
       "      <td>0</td>\n",
       "      <td>1</td>\n",
       "      <td>0</td>\n",
       "      <td>0</td>\n",
       "      <td>0</td>\n",
       "      <td>NaN</td>\n",
       "      <td>1</td>\n",
       "      <td>51.260780</td>\n",
       "      <td>UK-extradite-wikileaks</td>\n",
       "      <td>2.0</td>\n",
       "    </tr>\n",
       "    <tr>\n",
       "      <th>2</th>\n",
       "      <td>1</td>\n",
       "      <td>127.0.0.1</td>\n",
       "      <td>1</td>\n",
       "      <td>test</td>\n",
       "      <td>D95Lvq</td>\n",
       "      <td>2</td>\n",
       "      <td>2021-01-04 17:31:08.415142</td>\n",
       "      <td>2021-01-04 17:30:55.928005</td>\n",
       "      <td>Completed</td>\n",
       "      <td>4.414473</td>\n",
       "      <td>...</td>\n",
       "      <td>0</td>\n",
       "      <td>0</td>\n",
       "      <td>0</td>\n",
       "      <td>0</td>\n",
       "      <td>0</td>\n",
       "      <td>NaN</td>\n",
       "      <td>0</td>\n",
       "      <td>4.008214</td>\n",
       "      <td>Iran-tanker</td>\n",
       "      <td>7.0</td>\n",
       "    </tr>\n",
       "    <tr>\n",
       "      <th>3</th>\n",
       "      <td>1</td>\n",
       "      <td>127.0.0.1</td>\n",
       "      <td>1</td>\n",
       "      <td>test</td>\n",
       "      <td>D95Lvq</td>\n",
       "      <td>2</td>\n",
       "      <td>2021-01-04 17:31:08.415142</td>\n",
       "      <td>2021-01-04 17:30:55.928005</td>\n",
       "      <td>Completed</td>\n",
       "      <td>4.414473</td>\n",
       "      <td>...</td>\n",
       "      <td>0</td>\n",
       "      <td>0</td>\n",
       "      <td>0</td>\n",
       "      <td>0</td>\n",
       "      <td>0</td>\n",
       "      <td>NaN</td>\n",
       "      <td>0</td>\n",
       "      <td>4.008214</td>\n",
       "      <td>UK-extradite-wikileaks</td>\n",
       "      <td>9.0</td>\n",
       "    </tr>\n",
       "    <tr>\n",
       "      <th>4</th>\n",
       "      <td>1</td>\n",
       "      <td>127.0.0.1</td>\n",
       "      <td>0</td>\n",
       "      <td>test</td>\n",
       "      <td>nOOfm6</td>\n",
       "      <td>3</td>\n",
       "      <td>2021-01-04 17:31:28.172381</td>\n",
       "      <td>2021-01-04 17:31:14.798670</td>\n",
       "      <td>Completed</td>\n",
       "      <td>4.517570</td>\n",
       "      <td>...</td>\n",
       "      <td>0</td>\n",
       "      <td>0</td>\n",
       "      <td>0</td>\n",
       "      <td>1</td>\n",
       "      <td>0</td>\n",
       "      <td>NaN</td>\n",
       "      <td>1</td>\n",
       "      <td>63.342916</td>\n",
       "      <td>UK-extradite-wikileaks</td>\n",
       "      <td>4.0</td>\n",
       "    </tr>\n",
       "  </tbody>\n",
       "</table>\n",
       "<p>5 rows × 24 columns</p>\n",
       "</div>"
      ],
      "text/plain": [
       "   Test       IPv4  Ideal WorkerId SurveyCode  ID                     EndTime  \\\n",
       "0     1  127.0.0.1      0     test     s7X1T6   1  2021-01-04 17:30:49.562080   \n",
       "1     1  127.0.0.1      0     test     s7X1T6   1  2021-01-04 17:30:49.562080   \n",
       "2     1  127.0.0.1      1     test     D95Lvq   2  2021-01-04 17:31:08.415142   \n",
       "3     1  127.0.0.1      1     test     D95Lvq   2  2021-01-04 17:31:08.415142   \n",
       "4     1  127.0.0.1      0     test     nOOfm6   3  2021-01-04 17:31:28.172381   \n",
       "\n",
       "                    StartTime     Status  DemographicsTime  ... RaceBlack  \\\n",
       "0  2021-01-04 17:30:38.818873  Completed          4.191885  ...         0   \n",
       "1  2021-01-04 17:30:38.818873  Completed          4.191885  ...         0   \n",
       "2  2021-01-04 17:30:55.928005  Completed          4.414473  ...         0   \n",
       "3  2021-01-04 17:30:55.928005  Completed          4.414473  ...         0   \n",
       "4  2021-01-04 17:31:14.798670  Completed          4.517570  ...         0   \n",
       "\n",
       "   RaceSouth Asian RaceEast Asian  RaceArabic or Central Asian  RaceOther  \\\n",
       "0                1              0                            0          0   \n",
       "1                1              0                            0          0   \n",
       "2                0              0                            0          0   \n",
       "3                0              0                            0          0   \n",
       "4                0              0                            1          0   \n",
       "\n",
       "   RaceSpecify  Male        Age             ArticleName Enjoy  \n",
       "0          NaN     1  51.260780             Iran-tanker   7.0  \n",
       "1          NaN     1  51.260780  UK-extradite-wikileaks   2.0  \n",
       "2          NaN     0   4.008214             Iran-tanker   7.0  \n",
       "3          NaN     0   4.008214  UK-extradite-wikileaks   9.0  \n",
       "4          NaN     1  63.342916  UK-extradite-wikileaks   4.0  \n",
       "\n",
       "[5 rows x 24 columns]"
      ]
     },
     "execution_count": 1,
     "metadata": {},
     "output_type": "execute_result"
    }
   ],
   "source": [
    "import pandas as pd\n",
    "\n",
    "df = pd.read_csv('data.csv')\n",
    "df.head()"
   ]
  },
  {
   "cell_type": "code",
   "execution_count": 2,
   "metadata": {
    "ExecuteTime": {
     "end_time": "2021-01-04T17:40:05.473796Z",
     "start_time": "2021-01-04T17:40:05.468118Z"
    }
   },
   "outputs": [
    {
     "data": {
      "text/plain": [
       "Index(['Test', 'IPv4', 'Ideal', 'WorkerId', 'SurveyCode', 'ID', 'EndTime',\n",
       "       'StartTime', 'Status', 'DemographicsTime', 'Gender', 'GenderSpecify',\n",
       "       'BirthMonth', 'RaceWhite', 'RaceBlack', 'RaceSouth Asian',\n",
       "       'RaceEast Asian', 'RaceArabic or Central Asian', 'RaceOther',\n",
       "       'RaceSpecify', 'Male', 'Age', 'ArticleName', 'Enjoy'],\n",
       "      dtype='object')"
      ]
     },
     "execution_count": 2,
     "metadata": {},
     "output_type": "execute_result"
    }
   ],
   "source": [
    "df.columns"
   ]
  },
  {
   "cell_type": "code",
   "execution_count": 3,
   "metadata": {
    "ExecuteTime": {
     "end_time": "2021-01-04T17:40:24.210386Z",
     "start_time": "2021-01-04T17:40:24.117723Z"
    }
   },
   "outputs": [
    {
     "data": {
      "text/html": [
       "<div>\n",
       "<style scoped>\n",
       "    .dataframe tbody tr th:only-of-type {\n",
       "        vertical-align: middle;\n",
       "    }\n",
       "\n",
       "    .dataframe tbody tr th {\n",
       "        vertical-align: top;\n",
       "    }\n",
       "\n",
       "    .dataframe thead th {\n",
       "        text-align: right;\n",
       "    }\n",
       "</style>\n",
       "<table border=\"1\" class=\"dataframe\">\n",
       "  <thead>\n",
       "    <tr style=\"text-align: right;\">\n",
       "      <th></th>\n",
       "      <th>Ideal</th>\n",
       "      <th>RaceWhite</th>\n",
       "      <th>RaceBlack</th>\n",
       "      <th>RaceSouth Asian</th>\n",
       "      <th>RaceEast Asian</th>\n",
       "      <th>RaceArabic or Central Asian</th>\n",
       "      <th>RaceOther</th>\n",
       "      <th>Male</th>\n",
       "      <th>Age</th>\n",
       "      <th>ArticleName</th>\n",
       "    </tr>\n",
       "  </thead>\n",
       "  <tbody>\n",
       "    <tr>\n",
       "      <th>0</th>\n",
       "      <td>0</td>\n",
       "      <td>0</td>\n",
       "      <td>0</td>\n",
       "      <td>1</td>\n",
       "      <td>0</td>\n",
       "      <td>0</td>\n",
       "      <td>0</td>\n",
       "      <td>1</td>\n",
       "      <td>51.260780</td>\n",
       "      <td>Iran-tanker</td>\n",
       "    </tr>\n",
       "    <tr>\n",
       "      <th>1</th>\n",
       "      <td>0</td>\n",
       "      <td>0</td>\n",
       "      <td>0</td>\n",
       "      <td>1</td>\n",
       "      <td>0</td>\n",
       "      <td>0</td>\n",
       "      <td>0</td>\n",
       "      <td>1</td>\n",
       "      <td>51.260780</td>\n",
       "      <td>UK-extradite-wikileaks</td>\n",
       "    </tr>\n",
       "    <tr>\n",
       "      <th>2</th>\n",
       "      <td>1</td>\n",
       "      <td>1</td>\n",
       "      <td>0</td>\n",
       "      <td>0</td>\n",
       "      <td>0</td>\n",
       "      <td>0</td>\n",
       "      <td>0</td>\n",
       "      <td>0</td>\n",
       "      <td>4.008214</td>\n",
       "      <td>Iran-tanker</td>\n",
       "    </tr>\n",
       "    <tr>\n",
       "      <th>3</th>\n",
       "      <td>1</td>\n",
       "      <td>1</td>\n",
       "      <td>0</td>\n",
       "      <td>0</td>\n",
       "      <td>0</td>\n",
       "      <td>0</td>\n",
       "      <td>0</td>\n",
       "      <td>0</td>\n",
       "      <td>4.008214</td>\n",
       "      <td>UK-extradite-wikileaks</td>\n",
       "    </tr>\n",
       "    <tr>\n",
       "      <th>4</th>\n",
       "      <td>0</td>\n",
       "      <td>0</td>\n",
       "      <td>0</td>\n",
       "      <td>0</td>\n",
       "      <td>0</td>\n",
       "      <td>1</td>\n",
       "      <td>0</td>\n",
       "      <td>1</td>\n",
       "      <td>63.342916</td>\n",
       "      <td>UK-extradite-wikileaks</td>\n",
       "    </tr>\n",
       "  </tbody>\n",
       "</table>\n",
       "</div>"
      ],
      "text/plain": [
       "   Ideal  RaceWhite  RaceBlack  RaceSouth Asian  RaceEast Asian  \\\n",
       "0      0          0          0                1               0   \n",
       "1      0          0          0                1               0   \n",
       "2      1          1          0                0               0   \n",
       "3      1          1          0                0               0   \n",
       "4      0          0          0                0               0   \n",
       "\n",
       "   RaceArabic or Central Asian  RaceOther  Male        Age  \\\n",
       "0                            0          0     1  51.260780   \n",
       "1                            0          0     1  51.260780   \n",
       "2                            0          0     0   4.008214   \n",
       "3                            0          0     0   4.008214   \n",
       "4                            1          0     1  63.342916   \n",
       "\n",
       "              ArticleName  \n",
       "0             Iran-tanker  \n",
       "1  UK-extradite-wikileaks  \n",
       "2             Iran-tanker  \n",
       "3  UK-extradite-wikileaks  \n",
       "4  UK-extradite-wikileaks  "
      ]
     },
     "execution_count": 3,
     "metadata": {},
     "output_type": "execute_result"
    }
   ],
   "source": [
    "cols = [\n",
    "    'Ideal',\n",
    "    'RaceWhite',\n",
    "    'RaceBlack',\n",
    "    'RaceSouth Asian',\n",
    "    'RaceEast Asian',\n",
    "    'RaceArabic or Central Asian',\n",
    "    'RaceOther',\n",
    "    'Male',\n",
    "    'Age',\n",
    "    'ArticleName'\n",
    "]\n",
    "X, y = df[cols], df.Enjoy\n",
    "X.head()"
   ]
  },
  {
   "cell_type": "code",
   "execution_count": 4,
   "metadata": {
    "ExecuteTime": {
     "end_time": "2021-01-04T17:40:41.710241Z",
     "start_time": "2021-01-04T17:40:38.579194Z"
    }
   },
   "outputs": [
    {
     "data": {
      "text/plain": [
       "0.0007860611335934742"
      ]
     },
     "execution_count": 4,
     "metadata": {},
     "output_type": "execute_result"
    }
   ],
   "source": [
    "from sklearn.compose import make_column_transformer\n",
    "from sklearn.preprocessing import OneHotEncoder\n",
    "from sklearn.ensemble import RandomForestRegressor\n",
    "from sklearn.pipeline import make_pipeline\n",
    "\n",
    "reg = make_pipeline(\n",
    "    make_column_transformer(\n",
    "        (OneHotEncoder(), ['ArticleName'])\n",
    "    ),\n",
    "    RandomForestRegressor()\n",
    ")\n",
    "reg.fit(X, y)\n",
    "reg.score(X, y)"
   ]
  },
  {
   "cell_type": "code",
   "execution_count": 5,
   "metadata": {
    "ExecuteTime": {
     "end_time": "2021-01-04T17:40:46.604802Z",
     "start_time": "2021-01-04T17:40:44.769153Z"
    }
   },
   "outputs": [
    {
     "data": {
      "text/plain": [
       "-1.6380992176362152"
      ]
     },
     "execution_count": 5,
     "metadata": {},
     "output_type": "execute_result"
    }
   ],
   "source": [
    "from sklearn.model_selection import cross_val_score\n",
    "\n",
    "cross_val_score(reg, X, y).mean()"
   ]
  },
  {
   "cell_type": "code",
   "execution_count": 6,
   "metadata": {
    "ExecuteTime": {
     "end_time": "2021-01-04T17:40:53.296551Z",
     "start_time": "2021-01-04T17:40:52.907752Z"
    }
   },
   "outputs": [
    {
     "data": {
      "text/plain": [
       "['model.p']"
      ]
     },
     "execution_count": 6,
     "metadata": {},
     "output_type": "execute_result"
    }
   ],
   "source": [
    "from joblib import dump\n",
    "\n",
    "dump(reg, 'model.p')"
   ]
  },
  {
   "cell_type": "code",
   "execution_count": 7,
   "metadata": {
    "ExecuteTime": {
     "end_time": "2021-01-04T17:47:06.273145Z",
     "start_time": "2021-01-04T17:47:05.998677Z"
    }
   },
   "outputs": [
    {
     "data": {
      "text/html": [
       "<div>\n",
       "<style scoped>\n",
       "    .dataframe tbody tr th:only-of-type {\n",
       "        vertical-align: middle;\n",
       "    }\n",
       "\n",
       "    .dataframe tbody tr th {\n",
       "        vertical-align: top;\n",
       "    }\n",
       "\n",
       "    .dataframe thead th {\n",
       "        text-align: right;\n",
       "    }\n",
       "</style>\n",
       "<table border=\"1\" class=\"dataframe\">\n",
       "  <thead>\n",
       "    <tr style=\"text-align: right;\">\n",
       "      <th></th>\n",
       "      <th>Unnamed: 0</th>\n",
       "      <th>IPv4</th>\n",
       "      <th>Condition</th>\n",
       "      <th>WorkerId</th>\n",
       "      <th>ID</th>\n",
       "      <th>EndTime</th>\n",
       "      <th>StartTime</th>\n",
       "      <th>Status</th>\n",
       "      <th>DemographicsTime</th>\n",
       "      <th>Gender</th>\n",
       "      <th>...</th>\n",
       "      <th>BirthMonth</th>\n",
       "      <th>RaceWhite</th>\n",
       "      <th>RaceBlack</th>\n",
       "      <th>RaceSouth Asian</th>\n",
       "      <th>RaceEast Asian</th>\n",
       "      <th>RaceArabic or Central Asian</th>\n",
       "      <th>RaceOther</th>\n",
       "      <th>RaceSpecify</th>\n",
       "      <th>Male</th>\n",
       "      <th>Age</th>\n",
       "    </tr>\n",
       "  </thead>\n",
       "  <tbody>\n",
       "    <tr>\n",
       "      <th>0</th>\n",
       "      <td>0</td>\n",
       "      <td>127.0.0.1</td>\n",
       "      <td>random</td>\n",
       "      <td>test</td>\n",
       "      <td>2</td>\n",
       "      <td>2021-01-04 17:46:04.605200</td>\n",
       "      <td>2021-01-04 17:45:49.176281</td>\n",
       "      <td>InProgress</td>\n",
       "      <td>10.06271</td>\n",
       "      <td>Male</td>\n",
       "      <td>...</td>\n",
       "      <td>1992-10-01 00:00:00</td>\n",
       "      <td>1</td>\n",
       "      <td>0</td>\n",
       "      <td>0</td>\n",
       "      <td>0</td>\n",
       "      <td>0</td>\n",
       "      <td>0</td>\n",
       "      <td>NaN</td>\n",
       "      <td>1</td>\n",
       "      <td>28.260096</td>\n",
       "    </tr>\n",
       "  </tbody>\n",
       "</table>\n",
       "<p>1 rows × 21 columns</p>\n",
       "</div>"
      ],
      "text/plain": [
       "   Unnamed: 0       IPv4 Condition WorkerId  ID                     EndTime  \\\n",
       "0           0  127.0.0.1    random     test   2  2021-01-04 17:46:04.605200   \n",
       "\n",
       "                    StartTime      Status  DemographicsTime Gender  ...  \\\n",
       "0  2021-01-04 17:45:49.176281  InProgress          10.06271   Male  ...   \n",
       "\n",
       "            BirthMonth RaceWhite  RaceBlack  RaceSouth Asian  RaceEast Asian  \\\n",
       "0  1992-10-01 00:00:00         1          0                0               0   \n",
       "\n",
       "   RaceArabic or Central Asian  RaceOther  RaceSpecify  Male        Age  \n",
       "0                            0          0          NaN     1  28.260096  \n",
       "\n",
       "[1 rows x 21 columns]"
      ]
     },
     "execution_count": 7,
     "metadata": {},
     "output_type": "execute_result"
    }
   ],
   "source": [
    "df = pd.read_csv('user_data.csv')\n",
    "df.head()"
   ]
  },
  {
   "cell_type": "code",
   "execution_count": 8,
   "metadata": {
    "ExecuteTime": {
     "end_time": "2021-01-04T17:47:38.331562Z",
     "start_time": "2021-01-04T17:47:38.241082Z"
    }
   },
   "outputs": [
    {
     "data": {
      "text/html": [
       "<div>\n",
       "<style scoped>\n",
       "    .dataframe tbody tr th:only-of-type {\n",
       "        vertical-align: middle;\n",
       "    }\n",
       "\n",
       "    .dataframe tbody tr th {\n",
       "        vertical-align: top;\n",
       "    }\n",
       "\n",
       "    .dataframe thead th {\n",
       "        text-align: right;\n",
       "    }\n",
       "</style>\n",
       "<table border=\"1\" class=\"dataframe\">\n",
       "  <thead>\n",
       "    <tr style=\"text-align: right;\">\n",
       "      <th></th>\n",
       "      <th>Ideal</th>\n",
       "      <th>RaceWhite</th>\n",
       "      <th>RaceBlack</th>\n",
       "      <th>RaceSouth Asian</th>\n",
       "      <th>RaceEast Asian</th>\n",
       "      <th>RaceArabic or Central Asian</th>\n",
       "      <th>RaceOther</th>\n",
       "      <th>Male</th>\n",
       "      <th>Age</th>\n",
       "      <th>ArticleName</th>\n",
       "    </tr>\n",
       "  </thead>\n",
       "  <tbody>\n",
       "    <tr>\n",
       "      <th>0</th>\n",
       "      <td>False</td>\n",
       "      <td>1</td>\n",
       "      <td>0</td>\n",
       "      <td>0</td>\n",
       "      <td>0</td>\n",
       "      <td>0</td>\n",
       "      <td>0</td>\n",
       "      <td>1</td>\n",
       "      <td>28.260096</td>\n",
       "      <td>GA-Trump</td>\n",
       "    </tr>\n",
       "    <tr>\n",
       "      <th>1</th>\n",
       "      <td>False</td>\n",
       "      <td>1</td>\n",
       "      <td>0</td>\n",
       "      <td>0</td>\n",
       "      <td>0</td>\n",
       "      <td>0</td>\n",
       "      <td>0</td>\n",
       "      <td>1</td>\n",
       "      <td>28.260096</td>\n",
       "      <td>Iran-tanker</td>\n",
       "    </tr>\n",
       "    <tr>\n",
       "      <th>2</th>\n",
       "      <td>False</td>\n",
       "      <td>1</td>\n",
       "      <td>0</td>\n",
       "      <td>0</td>\n",
       "      <td>0</td>\n",
       "      <td>0</td>\n",
       "      <td>0</td>\n",
       "      <td>1</td>\n",
       "      <td>28.260096</td>\n",
       "      <td>UK-extradite-wikileaks</td>\n",
       "    </tr>\n",
       "  </tbody>\n",
       "</table>\n",
       "</div>"
      ],
      "text/plain": [
       "   Ideal  RaceWhite  RaceBlack  RaceSouth Asian  RaceEast Asian  \\\n",
       "0  False          1          0                0               0   \n",
       "1  False          1          0                0               0   \n",
       "2  False          1          0                0               0   \n",
       "\n",
       "   RaceArabic or Central Asian  RaceOther  Male        Age  \\\n",
       "0                            0          0     1  28.260096   \n",
       "1                            0          0     1  28.260096   \n",
       "2                            0          0     1  28.260096   \n",
       "\n",
       "              ArticleName  \n",
       "0                GA-Trump  \n",
       "1             Iran-tanker  \n",
       "2  UK-extradite-wikileaks  "
      ]
     },
     "execution_count": 8,
     "metadata": {},
     "output_type": "execute_result"
    }
   ],
   "source": [
    "from articles import ARTICLES, ARTICLE_NAMES\n",
    "\n",
    "df['Ideal'] = df['Condition'] == 'ideal'\n",
    "df = df.append((len(ARTICLES)-1)*[df], ignore_index=True)\n",
    "df['ArticleName'] = ARTICLE_NAMES\n",
    "X = df[cols]\n",
    "X.head()"
   ]
  },
  {
   "cell_type": "code",
   "execution_count": 9,
   "metadata": {
    "ExecuteTime": {
     "end_time": "2021-01-04T17:47:57.367653Z",
     "start_time": "2021-01-04T17:47:57.216662Z"
    }
   },
   "outputs": [
    {
     "data": {
      "text/plain": [
       "[(('UK-extradite-wikileaks',\n",
       "   'British Court Rejects U.S. Request To Extradite WikiLeaks Founder Julian Assange',\n",
       "   'https://www.npr.org/2021/01/04/953142687/british-court-rejects-u-s-request-to-extradite-wikileaks-founder-julian-assange'),\n",
       "  4.878583333333333),\n",
       " (('Iran-tanker',\n",
       "   'Iran seizes tanker, ramps up uranium enrichment in fresh escalation with West',\n",
       "   'https://www.nbcnews.com/news/world/iran-resumes-20-percent-uranium-enrichment-nuclear-facility-state-news-n1252708'),\n",
       "  4.801992063492062),\n",
       " (('GA-Trump',\n",
       "   \"Georgia GOP lieutenant governor says Trump call with secretary of state 'inappropriate'\",\n",
       "   'https://www.cnn.com/2021/01/04/politics/geoff-duncan-trump-raffensperger-call-cnntv/index.html'),\n",
       "  4.47166045066045)]"
      ]
     },
     "execution_count": 9,
     "metadata": {},
     "output_type": "execute_result"
    }
   ],
   "source": [
    "y_pred = reg.predict(X)\n",
    "article_ratings = list(zip(ARTICLES, y_pred))\n",
    "article_ratings.sort(key=lambda x: x[1], reverse=True)\n",
    "article_ratings"
   ]
  },
  {
   "cell_type": "code",
   "execution_count": null,
   "metadata": {},
   "outputs": [],
   "source": []
  }
 ],
 "metadata": {
  "kernelspec": {
   "display_name": "poruz_demo",
   "language": "python",
   "name": "poruz_demo"
  },
  "language_info": {
   "codemirror_mode": {
    "name": "ipython",
    "version": 3
   },
   "file_extension": ".py",
   "mimetype": "text/x-python",
   "name": "python",
   "nbconvert_exporter": "python",
   "pygments_lexer": "ipython3",
   "version": "3.6.8"
  },
  "toc": {
   "base_numbering": 1,
   "nav_menu": {},
   "number_sections": true,
   "sideBar": true,
   "skip_h1_title": false,
   "title_cell": "Table of Contents",
   "title_sidebar": "Contents",
   "toc_cell": false,
   "toc_position": {},
   "toc_section_display": true,
   "toc_window_display": false
  },
  "varInspector": {
   "cols": {
    "lenName": 16,
    "lenType": 16,
    "lenVar": 40
   },
   "kernels_config": {
    "python": {
     "delete_cmd_postfix": "",
     "delete_cmd_prefix": "del ",
     "library": "var_list.py",
     "varRefreshCmd": "print(var_dic_list())"
    },
    "r": {
     "delete_cmd_postfix": ") ",
     "delete_cmd_prefix": "rm(",
     "library": "var_list.r",
     "varRefreshCmd": "cat(var_dic_list()) "
    }
   },
   "types_to_exclude": [
    "module",
    "function",
    "builtin_function_or_method",
    "instance",
    "_Feature"
   ],
   "window_display": false
  }
 },
 "nbformat": 4,
 "nbformat_minor": 4
}
